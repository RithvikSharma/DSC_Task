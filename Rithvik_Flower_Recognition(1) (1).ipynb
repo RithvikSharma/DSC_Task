{
 "cells": [
  {
   "cell_type": "code",
   "execution_count": 28,
   "metadata": {},
   "outputs": [
    {
     "name": "stdout",
     "output_type": "stream",
     "text": [
      "['dandelion', 'rose', 'daisy', 'sunflower', 'tulip']\n"
     ]
    }
   ],
   "source": [
    "import os\n",
    "print(os.listdir('/home/ishammahajan/Downloads/flowers'))\n",
    "\n"
   ]
  },
  {
   "cell_type": "code",
   "execution_count": 29,
   "metadata": {},
   "outputs": [],
   "source": [
    "import numpy as np\n",
    "import cv2\n",
    "import matplotlib.pyplot as plt\n",
    "%matplotlib inline\n",
    "import keras\n",
    "from keras.models import Sequential\n",
    "from keras.layers import Dense, Conv2D, MaxPooling2D, Dropout, Flatten\n",
    "from keras.optimizers import Adam,SGD,Adagrad,Adadelta,RMSprop\n",
    "from keras.utils import to_categorical\n"
   ]
  },
  {
   "cell_type": "code",
   "execution_count": 30,
   "metadata": {},
   "outputs": [],
   "source": [
    "script_dir = os.path.dirname(\".\")\n",
    "training_set_path = os.path.join(script_dir, '/home/ishammahajan/Downloads/flowers')\n",
    "test_set_path = os.path.join(script_dir, '/home/ishammahajan/Downloads/flowers')\n"
   ]
  },
  {
   "cell_type": "code",
   "execution_count": 31,
   "metadata": {},
   "outputs": [
    {
     "name": "stdout",
     "output_type": "stream",
     "text": [
      "Found 2899 images belonging to 5 classes.\n",
      "Found 1424 images belonging to 5 classes.\n"
     ]
    }
   ],
   "source": [
    "from keras.preprocessing.image import ImageDataGenerator\n",
    "#Data Preprocessing\n",
    "\n",
    "batch_size = 32\n",
    "input_size = (256, 256)\n",
    "\n",
    "train_datagen = ImageDataGenerator(rescale=1. / 255,\n",
    "                                   shear_range=0.2,\n",
    "                                   zoom_range=0.2,\n",
    "                                   horizontal_flip=True,validation_split=0.33)\n",
    "\n",
    "\n",
    "\n",
    "training_set = train_datagen.flow_from_directory(training_set_path,\n",
    "                                                 target_size=input_size,\n",
    "                                                 batch_size=batch_size,\n",
    "                                                 subset=\"training\",\n",
    "                                                 class_mode='categorical')\n",
    "\n",
    "\n",
    "\n",
    "test_set = train_datagen.flow_from_directory(test_set_path,\n",
    "                                            target_size=input_size,\n",
    "                                            batch_size=batch_size,\n",
    "                                            subset=\"validation\",\n",
    "                                            class_mode='categorical')\n"
   ]
  },
  {
   "cell_type": "code",
   "execution_count": 32,
   "metadata": {},
   "outputs": [],
   "source": [
    "#function will be used once the image dataset is fitted on it\n",
    "\n",
    "def createModel():\n",
    "    model = Sequential()\n",
    "    # The first two layers with 32 filters of window size 3x3\n",
    "    model.add(Conv2D(32, (3, 3), padding='same', activation='relu', input_shape=(256,256,3)))\n",
    "    #model.add(Conv2D(32, (3, 3), activation='relu'))\n",
    "    model.add(MaxPooling2D(pool_size=(2, 2)))\n",
    "    model.add(Dropout(0.25))\n",
    "\n",
    "    model.add(Conv2D(64, (3, 3), padding='same', activation='relu'))\n",
    "    #model.add(Conv2D(64, (3, 3), activation='relu'))\n",
    "    model.add(MaxPooling2D(pool_size=(2, 2)))\n",
    "    model.add(Dropout(0.25))\n",
    "\n",
    "    model.add(Conv2D(128, (3, 3), padding='same', activation='relu'))\n",
    "    #model.add(Conv2D(64, (3, 3), activation='relu'))\n",
    "    model.add(MaxPooling2D(pool_size=(2, 2)))\n",
    "    model.add(Dropout(0.25))\n",
    "\n",
    "    model.add(Flatten())\n",
    "    model.add(Dense(512, activation='relu'))\n",
    "    model.add(Dropout(0.5))\n",
    "    model.add(Dense(units=5, activation='softmax'))\n",
    "    \n",
    "    return model\n"
   ]
  },
  {
   "cell_type": "code",
   "execution_count": 33,
   "metadata": {},
   "outputs": [
    {
     "name": "stdout",
     "output_type": "stream",
     "text": [
      "_________________________________________________________________\n",
      "Layer (type)                 Output Shape              Param #   \n",
      "=================================================================\n",
      "conv2d_7 (Conv2D)            (None, 256, 256, 32)      896       \n",
      "_________________________________________________________________\n",
      "max_pooling2d_7 (MaxPooling2 (None, 128, 128, 32)      0         \n",
      "_________________________________________________________________\n",
      "dropout_9 (Dropout)          (None, 128, 128, 32)      0         \n",
      "_________________________________________________________________\n",
      "conv2d_8 (Conv2D)            (None, 128, 128, 64)      18496     \n",
      "_________________________________________________________________\n",
      "max_pooling2d_8 (MaxPooling2 (None, 64, 64, 64)        0         \n",
      "_________________________________________________________________\n",
      "dropout_10 (Dropout)         (None, 64, 64, 64)        0         \n",
      "_________________________________________________________________\n",
      "conv2d_9 (Conv2D)            (None, 64, 64, 128)       73856     \n",
      "_________________________________________________________________\n",
      "max_pooling2d_9 (MaxPooling2 (None, 32, 32, 128)       0         \n",
      "_________________________________________________________________\n",
      "dropout_11 (Dropout)         (None, 32, 32, 128)       0         \n",
      "_________________________________________________________________\n",
      "flatten_3 (Flatten)          (None, 131072)            0         \n",
      "_________________________________________________________________\n",
      "dense_5 (Dense)              (None, 512)               67109376  \n",
      "_________________________________________________________________\n",
      "dropout_12 (Dropout)         (None, 512)               0         \n",
      "_________________________________________________________________\n",
      "dense_6 (Dense)              (None, 5)                 2565      \n",
      "=================================================================\n",
      "Total params: 67,205,189\n",
      "Trainable params: 67,205,189\n",
      "Non-trainable params: 0\n",
      "_________________________________________________________________\n"
     ]
    }
   ],
   "source": [
    "model1 = createModel()\n",
    "model1.compile(loss='categorical_crossentropy',optimizer='adam',metrics=['accuracy'])\n",
    "model1.summary()\n"
   ]
  },
  {
   "cell_type": "code",
   "execution_count": 34,
   "metadata": {},
   "outputs": [
    {
     "name": "stdout",
     "output_type": "stream",
     "text": [
      "Epoch 1/100\n",
      "32/31 [==============================] - 143s 4s/step - loss: 2.6440 - acc: 0.2529 - val_loss: 1.4167 - val_acc: 0.3828\n",
      "Epoch 2/100\n",
      "32/31 [==============================] - 138s 4s/step - loss: 1.3712 - acc: 0.3955 - val_loss: 1.3603 - val_acc: 0.4531\n",
      "Epoch 3/100\n",
      "32/31 [==============================] - 136s 4s/step - loss: 1.3454 - acc: 0.4594 - val_loss: 1.3235 - val_acc: 0.4766\n",
      "Epoch 4/100\n",
      "32/31 [==============================] - 137s 4s/step - loss: 1.2456 - acc: 0.4971 - val_loss: 1.2679 - val_acc: 0.4531\n",
      "Epoch 5/100\n",
      "32/31 [==============================] - 138s 4s/step - loss: 1.2735 - acc: 0.4980 - val_loss: 1.2936 - val_acc: 0.3984\n",
      "Epoch 6/100\n",
      "32/31 [==============================] - 136s 4s/step - loss: 1.1938 - acc: 0.5073 - val_loss: 1.2062 - val_acc: 0.5703\n",
      "Epoch 7/100\n",
      "32/31 [==============================] - 137s 4s/step - loss: 1.1438 - acc: 0.5225 - val_loss: 1.1359 - val_acc: 0.5547\n",
      "Epoch 8/100\n",
      "32/31 [==============================] - 137s 4s/step - loss: 1.1547 - acc: 0.5410 - val_loss: 1.2874 - val_acc: 0.5312\n",
      "Epoch 9/100\n",
      "32/31 [==============================] - 136s 4s/step - loss: 1.1300 - acc: 0.5487 - val_loss: 1.1052 - val_acc: 0.5078\n",
      "Epoch 10/100\n",
      "32/31 [==============================] - 137s 4s/step - loss: 1.0879 - acc: 0.5635 - val_loss: 1.0688 - val_acc: 0.6172\n",
      "Epoch 11/100\n",
      "32/31 [==============================] - 136s 4s/step - loss: 1.0460 - acc: 0.5586 - val_loss: 1.1091 - val_acc: 0.5391\n",
      "Epoch 12/100\n",
      "32/31 [==============================] - 134s 4s/step - loss: 1.0382 - acc: 0.5891 - val_loss: 1.0424 - val_acc: 0.5625\n",
      "Epoch 13/100\n",
      "32/31 [==============================] - 136s 4s/step - loss: 0.9849 - acc: 0.6182 - val_loss: 1.0966 - val_acc: 0.5703\n",
      "Epoch 14/100\n",
      "32/31 [==============================] - 136s 4s/step - loss: 1.0260 - acc: 0.5918 - val_loss: 1.0346 - val_acc: 0.6250\n",
      "Epoch 15/100\n",
      "32/31 [==============================] - 135s 4s/step - loss: 0.9993 - acc: 0.5953 - val_loss: 0.9985 - val_acc: 0.6094\n",
      "Epoch 16/100\n",
      "32/31 [==============================] - 136s 4s/step - loss: 0.9458 - acc: 0.6104 - val_loss: 1.0811 - val_acc: 0.5703\n",
      "Epoch 17/100\n",
      "32/31 [==============================] - 136s 4s/step - loss: 0.9639 - acc: 0.6357 - val_loss: 0.9391 - val_acc: 0.6250\n",
      "Epoch 18/100\n",
      "32/31 [==============================] - 135s 4s/step - loss: 0.9708 - acc: 0.6340 - val_loss: 1.0203 - val_acc: 0.6094\n",
      "Epoch 19/100\n",
      "32/31 [==============================] - 136s 4s/step - loss: 0.9391 - acc: 0.6260 - val_loss: 0.9398 - val_acc: 0.6406\n",
      "Epoch 20/100\n",
      "32/31 [==============================] - 135s 4s/step - loss: 0.8792 - acc: 0.6652 - val_loss: 0.9153 - val_acc: 0.6250\n",
      "Epoch 21/100\n",
      "32/31 [==============================] - 136s 4s/step - loss: 0.9032 - acc: 0.6377 - val_loss: 0.9307 - val_acc: 0.6484\n",
      "Epoch 22/100\n",
      "32/31 [==============================] - 138s 4s/step - loss: 0.8341 - acc: 0.6592 - val_loss: 0.8858 - val_acc: 0.6484\n",
      "Epoch 23/100\n",
      "32/31 [==============================] - 136s 4s/step - loss: 0.8009 - acc: 0.6783 - val_loss: 0.8714 - val_acc: 0.6875\n",
      "Epoch 24/100\n",
      "32/31 [==============================] - 137s 4s/step - loss: 0.8372 - acc: 0.6699 - val_loss: 0.8206 - val_acc: 0.6875\n",
      "Epoch 25/100\n",
      "32/31 [==============================] - 137s 4s/step - loss: 0.8289 - acc: 0.6895 - val_loss: 0.7811 - val_acc: 0.6719\n",
      "Epoch 26/100\n",
      "32/31 [==============================] - 136s 4s/step - loss: 0.8637 - acc: 0.6708 - val_loss: 0.9514 - val_acc: 0.6016\n",
      "Epoch 27/100\n",
      "32/31 [==============================] - 137s 4s/step - loss: 0.8207 - acc: 0.6953 - val_loss: 0.7895 - val_acc: 0.7031\n",
      "Epoch 28/100\n",
      "32/31 [==============================] - 137s 4s/step - loss: 0.7713 - acc: 0.6992 - val_loss: 1.0077 - val_acc: 0.6094\n",
      "Epoch 29/100\n",
      "32/31 [==============================] - 136s 4s/step - loss: 0.7311 - acc: 0.7388 - val_loss: 0.7917 - val_acc: 0.6797\n",
      "Epoch 30/100\n",
      "32/31 [==============================] - 137s 4s/step - loss: 0.7865 - acc: 0.7090 - val_loss: 0.9805 - val_acc: 0.6172\n",
      "Epoch 31/100\n",
      "32/31 [==============================] - 137s 4s/step - loss: 0.7185 - acc: 0.7324 - val_loss: 0.8899 - val_acc: 0.6250\n",
      "Epoch 32/100\n",
      "32/31 [==============================] - 136s 4s/step - loss: 0.7192 - acc: 0.7232 - val_loss: 0.8458 - val_acc: 0.6719\n",
      "Epoch 33/100\n",
      "32/31 [==============================] - 137s 4s/step - loss: 0.7425 - acc: 0.6973 - val_loss: 0.9190 - val_acc: 0.6328\n",
      "Epoch 34/100\n",
      "32/31 [==============================] - 137s 4s/step - loss: 0.7077 - acc: 0.7344 - val_loss: 0.8893 - val_acc: 0.6339\n",
      "Epoch 35/100\n",
      "32/31 [==============================] - 136s 4s/step - loss: 0.6865 - acc: 0.7258 - val_loss: 0.7174 - val_acc: 0.7422\n",
      "Epoch 36/100\n",
      "32/31 [==============================] - 137s 4s/step - loss: 0.7367 - acc: 0.7090 - val_loss: 0.8091 - val_acc: 0.6719\n",
      "Epoch 37/100\n",
      "32/31 [==============================] - 136s 4s/step - loss: 0.7729 - acc: 0.7014 - val_loss: 1.0585 - val_acc: 0.5938\n",
      "Epoch 38/100\n",
      "32/31 [==============================] - 137s 4s/step - loss: 0.6975 - acc: 0.7236 - val_loss: 0.6687 - val_acc: 0.7656\n",
      "Epoch 39/100\n",
      "32/31 [==============================] - 137s 4s/step - loss: 0.6959 - acc: 0.7227 - val_loss: 0.8407 - val_acc: 0.6797\n",
      "Epoch 40/100\n",
      "13/31 [===========>..................] - ETA: 1:16 - loss: 0.7035 - acc: 0.7404"
     ]
    },
    {
     "ename": "KeyboardInterrupt",
     "evalue": "",
     "output_type": "error",
     "traceback": [
      "\u001b[0;31m---------------------------------------------------------------------------\u001b[0m",
      "\u001b[0;31mKeyboardInterrupt\u001b[0m                         Traceback (most recent call last)",
      "\u001b[0;32m<ipython-input-34-a097ae8204dc>\u001b[0m in \u001b[0;36m<module>\u001b[0;34m\u001b[0m\n\u001b[1;32m      4\u001b[0m                          \u001b[0mvalidation_data\u001b[0m\u001b[0;34m=\u001b[0m\u001b[0mtest_set\u001b[0m\u001b[0;34m,\u001b[0m\u001b[0;34m\u001b[0m\u001b[0m\n\u001b[1;32m      5\u001b[0m                          \u001b[0mvalidation_steps\u001b[0m\u001b[0;34m=\u001b[0m\u001b[0;36m100\u001b[0m\u001b[0;34m/\u001b[0m\u001b[0mbatch_size\u001b[0m\u001b[0;34m,\u001b[0m\u001b[0;34m\u001b[0m\u001b[0m\n\u001b[0;32m----> 6\u001b[0;31m                          workers=12)\n\u001b[0m",
      "\u001b[0;32m/usr/local/lib/python3.5/dist-packages/keras/legacy/interfaces.py\u001b[0m in \u001b[0;36mwrapper\u001b[0;34m(*args, **kwargs)\u001b[0m\n\u001b[1;32m     89\u001b[0m                 warnings.warn('Update your `' + object_name + '` call to the ' +\n\u001b[1;32m     90\u001b[0m                               'Keras 2 API: ' + signature, stacklevel=2)\n\u001b[0;32m---> 91\u001b[0;31m             \u001b[0;32mreturn\u001b[0m \u001b[0mfunc\u001b[0m\u001b[0;34m(\u001b[0m\u001b[0;34m*\u001b[0m\u001b[0margs\u001b[0m\u001b[0;34m,\u001b[0m \u001b[0;34m**\u001b[0m\u001b[0mkwargs\u001b[0m\u001b[0;34m)\u001b[0m\u001b[0;34m\u001b[0m\u001b[0m\n\u001b[0m\u001b[1;32m     92\u001b[0m         \u001b[0mwrapper\u001b[0m\u001b[0;34m.\u001b[0m\u001b[0m_original_function\u001b[0m \u001b[0;34m=\u001b[0m \u001b[0mfunc\u001b[0m\u001b[0;34m\u001b[0m\u001b[0m\n\u001b[1;32m     93\u001b[0m         \u001b[0;32mreturn\u001b[0m \u001b[0mwrapper\u001b[0m\u001b[0;34m\u001b[0m\u001b[0m\n",
      "\u001b[0;32m/usr/local/lib/python3.5/dist-packages/keras/engine/training.py\u001b[0m in \u001b[0;36mfit_generator\u001b[0;34m(self, generator, steps_per_epoch, epochs, verbose, callbacks, validation_data, validation_steps, class_weight, max_queue_size, workers, use_multiprocessing, shuffle, initial_epoch)\u001b[0m\n\u001b[1;32m   1416\u001b[0m             \u001b[0muse_multiprocessing\u001b[0m\u001b[0;34m=\u001b[0m\u001b[0muse_multiprocessing\u001b[0m\u001b[0;34m,\u001b[0m\u001b[0;34m\u001b[0m\u001b[0m\n\u001b[1;32m   1417\u001b[0m             \u001b[0mshuffle\u001b[0m\u001b[0;34m=\u001b[0m\u001b[0mshuffle\u001b[0m\u001b[0;34m,\u001b[0m\u001b[0;34m\u001b[0m\u001b[0m\n\u001b[0;32m-> 1418\u001b[0;31m             initial_epoch=initial_epoch)\n\u001b[0m\u001b[1;32m   1419\u001b[0m \u001b[0;34m\u001b[0m\u001b[0m\n\u001b[1;32m   1420\u001b[0m     \u001b[0;34m@\u001b[0m\u001b[0minterfaces\u001b[0m\u001b[0;34m.\u001b[0m\u001b[0mlegacy_generator_methods_support\u001b[0m\u001b[0;34m\u001b[0m\u001b[0m\n",
      "\u001b[0;32m/usr/local/lib/python3.5/dist-packages/keras/engine/training_generator.py\u001b[0m in \u001b[0;36mfit_generator\u001b[0;34m(model, generator, steps_per_epoch, epochs, verbose, callbacks, validation_data, validation_steps, class_weight, max_queue_size, workers, use_multiprocessing, shuffle, initial_epoch)\u001b[0m\n\u001b[1;32m    215\u001b[0m                 outs = model.train_on_batch(x, y,\n\u001b[1;32m    216\u001b[0m                                             \u001b[0msample_weight\u001b[0m\u001b[0;34m=\u001b[0m\u001b[0msample_weight\u001b[0m\u001b[0;34m,\u001b[0m\u001b[0;34m\u001b[0m\u001b[0m\n\u001b[0;32m--> 217\u001b[0;31m                                             class_weight=class_weight)\n\u001b[0m\u001b[1;32m    218\u001b[0m \u001b[0;34m\u001b[0m\u001b[0m\n\u001b[1;32m    219\u001b[0m                 \u001b[0mouts\u001b[0m \u001b[0;34m=\u001b[0m \u001b[0mto_list\u001b[0m\u001b[0;34m(\u001b[0m\u001b[0mouts\u001b[0m\u001b[0;34m)\u001b[0m\u001b[0;34m\u001b[0m\u001b[0m\n",
      "\u001b[0;32m/usr/local/lib/python3.5/dist-packages/keras/engine/training.py\u001b[0m in \u001b[0;36mtrain_on_batch\u001b[0;34m(self, x, y, sample_weight, class_weight)\u001b[0m\n\u001b[1;32m   1215\u001b[0m             \u001b[0mins\u001b[0m \u001b[0;34m=\u001b[0m \u001b[0mx\u001b[0m \u001b[0;34m+\u001b[0m \u001b[0my\u001b[0m \u001b[0;34m+\u001b[0m \u001b[0msample_weights\u001b[0m\u001b[0;34m\u001b[0m\u001b[0m\n\u001b[1;32m   1216\u001b[0m         \u001b[0mself\u001b[0m\u001b[0;34m.\u001b[0m\u001b[0m_make_train_function\u001b[0m\u001b[0;34m(\u001b[0m\u001b[0;34m)\u001b[0m\u001b[0;34m\u001b[0m\u001b[0m\n\u001b[0;32m-> 1217\u001b[0;31m         \u001b[0moutputs\u001b[0m \u001b[0;34m=\u001b[0m \u001b[0mself\u001b[0m\u001b[0;34m.\u001b[0m\u001b[0mtrain_function\u001b[0m\u001b[0;34m(\u001b[0m\u001b[0mins\u001b[0m\u001b[0;34m)\u001b[0m\u001b[0;34m\u001b[0m\u001b[0m\n\u001b[0m\u001b[1;32m   1218\u001b[0m         \u001b[0;32mreturn\u001b[0m \u001b[0munpack_singleton\u001b[0m\u001b[0;34m(\u001b[0m\u001b[0moutputs\u001b[0m\u001b[0;34m)\u001b[0m\u001b[0;34m\u001b[0m\u001b[0m\n\u001b[1;32m   1219\u001b[0m \u001b[0;34m\u001b[0m\u001b[0m\n",
      "\u001b[0;32m/usr/local/lib/python3.5/dist-packages/keras/backend/tensorflow_backend.py\u001b[0m in \u001b[0;36m__call__\u001b[0;34m(self, inputs)\u001b[0m\n\u001b[1;32m   2713\u001b[0m                 \u001b[0;32mreturn\u001b[0m \u001b[0mself\u001b[0m\u001b[0;34m.\u001b[0m\u001b[0m_legacy_call\u001b[0m\u001b[0;34m(\u001b[0m\u001b[0minputs\u001b[0m\u001b[0;34m)\u001b[0m\u001b[0;34m\u001b[0m\u001b[0m\n\u001b[1;32m   2714\u001b[0m \u001b[0;34m\u001b[0m\u001b[0m\n\u001b[0;32m-> 2715\u001b[0;31m             \u001b[0;32mreturn\u001b[0m \u001b[0mself\u001b[0m\u001b[0;34m.\u001b[0m\u001b[0m_call\u001b[0m\u001b[0;34m(\u001b[0m\u001b[0minputs\u001b[0m\u001b[0;34m)\u001b[0m\u001b[0;34m\u001b[0m\u001b[0m\n\u001b[0m\u001b[1;32m   2716\u001b[0m         \u001b[0;32melse\u001b[0m\u001b[0;34m:\u001b[0m\u001b[0;34m\u001b[0m\u001b[0m\n\u001b[1;32m   2717\u001b[0m             \u001b[0;32mif\u001b[0m \u001b[0mpy_any\u001b[0m\u001b[0;34m(\u001b[0m\u001b[0mis_tensor\u001b[0m\u001b[0;34m(\u001b[0m\u001b[0mx\u001b[0m\u001b[0;34m)\u001b[0m \u001b[0;32mfor\u001b[0m \u001b[0mx\u001b[0m \u001b[0;32min\u001b[0m \u001b[0minputs\u001b[0m\u001b[0;34m)\u001b[0m\u001b[0;34m:\u001b[0m\u001b[0;34m\u001b[0m\u001b[0m\n",
      "\u001b[0;32m/usr/local/lib/python3.5/dist-packages/keras/backend/tensorflow_backend.py\u001b[0m in \u001b[0;36m_call\u001b[0;34m(self, inputs)\u001b[0m\n\u001b[1;32m   2673\u001b[0m             \u001b[0mfetched\u001b[0m \u001b[0;34m=\u001b[0m \u001b[0mself\u001b[0m\u001b[0;34m.\u001b[0m\u001b[0m_callable_fn\u001b[0m\u001b[0;34m(\u001b[0m\u001b[0;34m*\u001b[0m\u001b[0marray_vals\u001b[0m\u001b[0;34m,\u001b[0m \u001b[0mrun_metadata\u001b[0m\u001b[0;34m=\u001b[0m\u001b[0mself\u001b[0m\u001b[0;34m.\u001b[0m\u001b[0mrun_metadata\u001b[0m\u001b[0;34m)\u001b[0m\u001b[0;34m\u001b[0m\u001b[0m\n\u001b[1;32m   2674\u001b[0m         \u001b[0;32melse\u001b[0m\u001b[0;34m:\u001b[0m\u001b[0;34m\u001b[0m\u001b[0m\n\u001b[0;32m-> 2675\u001b[0;31m             \u001b[0mfetched\u001b[0m \u001b[0;34m=\u001b[0m \u001b[0mself\u001b[0m\u001b[0;34m.\u001b[0m\u001b[0m_callable_fn\u001b[0m\u001b[0;34m(\u001b[0m\u001b[0;34m*\u001b[0m\u001b[0marray_vals\u001b[0m\u001b[0;34m)\u001b[0m\u001b[0;34m\u001b[0m\u001b[0m\n\u001b[0m\u001b[1;32m   2676\u001b[0m         \u001b[0;32mreturn\u001b[0m \u001b[0mfetched\u001b[0m\u001b[0;34m[\u001b[0m\u001b[0;34m:\u001b[0m\u001b[0mlen\u001b[0m\u001b[0;34m(\u001b[0m\u001b[0mself\u001b[0m\u001b[0;34m.\u001b[0m\u001b[0moutputs\u001b[0m\u001b[0;34m)\u001b[0m\u001b[0;34m]\u001b[0m\u001b[0;34m\u001b[0m\u001b[0m\n\u001b[1;32m   2677\u001b[0m \u001b[0;34m\u001b[0m\u001b[0m\n",
      "\u001b[0;32m/usr/local/lib/python3.5/dist-packages/tensorflow/python/client/session.py\u001b[0m in \u001b[0;36m__call__\u001b[0;34m(self, *args, **kwargs)\u001b[0m\n\u001b[1;32m   1397\u001b[0m           ret = tf_session.TF_SessionRunCallable(\n\u001b[1;32m   1398\u001b[0m               \u001b[0mself\u001b[0m\u001b[0;34m.\u001b[0m\u001b[0m_session\u001b[0m\u001b[0;34m.\u001b[0m\u001b[0m_session\u001b[0m\u001b[0;34m,\u001b[0m \u001b[0mself\u001b[0m\u001b[0;34m.\u001b[0m\u001b[0m_handle\u001b[0m\u001b[0;34m,\u001b[0m \u001b[0margs\u001b[0m\u001b[0;34m,\u001b[0m \u001b[0mstatus\u001b[0m\u001b[0;34m,\u001b[0m\u001b[0;34m\u001b[0m\u001b[0m\n\u001b[0;32m-> 1399\u001b[0;31m               run_metadata_ptr)\n\u001b[0m\u001b[1;32m   1400\u001b[0m         \u001b[0;32mif\u001b[0m \u001b[0mrun_metadata\u001b[0m\u001b[0;34m:\u001b[0m\u001b[0;34m\u001b[0m\u001b[0m\n\u001b[1;32m   1401\u001b[0m           \u001b[0mproto_data\u001b[0m \u001b[0;34m=\u001b[0m \u001b[0mtf_session\u001b[0m\u001b[0;34m.\u001b[0m\u001b[0mTF_GetBuffer\u001b[0m\u001b[0;34m(\u001b[0m\u001b[0mrun_metadata_ptr\u001b[0m\u001b[0;34m)\u001b[0m\u001b[0;34m\u001b[0m\u001b[0m\n",
      "\u001b[0;31mKeyboardInterrupt\u001b[0m: "
     ]
    }
   ],
   "source": [
    "model_info = model1.fit_generator(training_set,\n",
    "                         steps_per_epoch=1000/batch_size,\n",
    "                         epochs=100,\n",
    "                         validation_data=test_set,\n",
    "                         validation_steps=100/batch_size,\n",
    "                         workers=12)\n"
   ]
  },
  {
   "cell_type": "code",
   "execution_count": null,
   "metadata": {},
   "outputs": [],
   "source": []
  }
 ],
 "metadata": {
  "anaconda-cloud": {},
  "kernelspec": {
   "display_name": "Python 3",
   "language": "python",
   "name": "python3"
  },
  "language_info": {
   "codemirror_mode": {
    "name": "ipython",
    "version": 3
   },
   "file_extension": ".py",
   "mimetype": "text/x-python",
   "name": "python",
   "nbconvert_exporter": "python",
   "pygments_lexer": "ipython3",
   "version": "3.5.2"
  }
 },
 "nbformat": 4,
 "nbformat_minor": 1
}
